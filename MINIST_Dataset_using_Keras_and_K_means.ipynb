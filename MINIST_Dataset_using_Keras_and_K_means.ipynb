{
  "nbformat": 4,
  "nbformat_minor": 0,
  "metadata": {
    "kernelspec": {
      "display_name": "Python 3",
      "language": "python",
      "name": "python3"
    },
    "language_info": {
      "codemirror_mode": {
        "name": "ipython",
        "version": 3
      },
      "file_extension": ".py",
      "mimetype": "text/x-python",
      "name": "python",
      "nbconvert_exporter": "python",
      "pygments_lexer": "ipython3",
      "version": "3.8.3"
    },
    "colab": {
      "name": "MINIST Dataset using Keras and K-means.ipynb",
      "provenance": [],
      "collapsed_sections": []
    }
  },
  "cells": [
    {
      "cell_type": "markdown",
      "metadata": {
        "id": "iXPhBcEVNUt8"
      },
      "source": [
        "## MINIST Dataset"
      ]
    },
    {
      "cell_type": "code",
      "metadata": {
        "id": "4dUnZ-3uNUt-"
      },
      "source": [
        "# Import the libraries and load the dataset.\n",
        "\n",
        "import keras\n",
        "from keras.datasets import mnist\n",
        "from keras.models import Sequential\n",
        "from keras.layers import Dense,  Dropout, Flatten\n",
        "from keras.layers import Conv2D, MaxPooling2D\n",
        "from keras import backend as K"
      ],
      "execution_count": null,
      "outputs": []
    },
    {
      "cell_type": "code",
      "metadata": {
        "id": "3UnMlAcENUuF",
        "outputId": "5dd8706a-a933-48d3-9e2e-a663a2630347",
        "colab": {
          "base_uri": "https://localhost:8080/",
          "height": 72
        }
      },
      "source": [
        "# Spliting data between train and test sets\n",
        "\n",
        "(x_train, y_train), (x_test, y_test) = mnist.load_data ()\n",
        "\n",
        "print(x_train.shape, y_train.shape)"
      ],
      "execution_count": null,
      "outputs": [
        {
          "output_type": "stream",
          "text": [
            "Downloading data from https://storage.googleapis.com/tensorflow/tf-keras-datasets/mnist.npz\n",
            "11493376/11490434 [==============================] - 0s 0us/step\n",
            "(60000, 28, 28) (60000,)\n"
          ],
          "name": "stdout"
        }
      ]
    },
    {
      "cell_type": "code",
      "metadata": {
        "id": "QvQcjVswNUuQ",
        "outputId": "17958959-b97d-4886-eeda-9abeaa41f377",
        "colab": {
          "base_uri": "https://localhost:8080/",
          "height": 72
        }
      },
      "source": [
        "import numpy as np\n",
        "#Convert class vectors to binary class matrices\n",
        "\n",
        "x_train = x_train.reshape(x_train.shape[0], 28, 28, 1)\n",
        "x_test = x_test.reshape(x_test.shape[0], 28, 28, 1)\n",
        "input_shape = (28, 28, 1)\n",
        "\n",
        "y_train = keras.utils.to_categorical(y_train, num_classes = 10)\n",
        "y_test = keras.utils.to_categorical(y_test, num_classes = 10)\n",
        "\n",
        "x_train = x_train.astype('float32')\n",
        "x_test = x_test.astype('float32')\n",
        "x_train /= 255\n",
        "x_test /= 255\n",
        "print('x_train shape:', x_train.shape)\n",
        "print(x_train.shape[0], 'train samples')\n",
        "print(x_test.shape[0], 'test samples')"
      ],
      "execution_count": null,
      "outputs": [
        {
          "output_type": "stream",
          "text": [
            "x_train shape: (60000, 28, 28, 1)\n",
            "60000 train samples\n",
            "10000 test samples\n"
          ],
          "name": "stdout"
        }
      ]
    },
    {
      "cell_type": "code",
      "metadata": {
        "id": "33TeR8d6NUuU"
      },
      "source": [
        "#Creating CNN Model\n",
        "\n",
        "batch_size = 128\n",
        "num_classes = 10\n",
        "epochs = 35\n",
        "\n",
        "model = Sequential()\n",
        "model.add(Conv2D(32, kernel_size=(3, 3),activation='relu',input_shape=input_shape))\n",
        "model.add(Conv2D(64, (3, 3), activation='relu'))\n",
        "model.add(MaxPooling2D(pool_size=(2, 2)))\n",
        "model.add(Dropout(0.25))\n",
        "model.add(Flatten())\n",
        "model.add(Dense(256, activation='relu'))\n",
        "model.add(Dropout(0.5))\n",
        "model.add(Dense(num_classes, activation='softmax'))\n",
        "\n",
        "model.compile(loss=keras.losses.categorical_crossentropy,optimizer=keras.optimizers.Adadelta(),metrics=['accuracy'])"
      ],
      "execution_count": null,
      "outputs": []
    },
    {
      "cell_type": "code",
      "metadata": {
        "id": "fax5GBNZNUub",
        "outputId": "15d3aa12-8c0d-4884-fb29-ddc0d0550622",
        "colab": {
          "base_uri": "https://localhost:8080/",
          "height": 1000
        }
      },
      "source": [
        "# Train the Model\n",
        "\n",
        "hist = model.fit(x_train, y_train,batch_size=batch_size,epochs=epochs,verbose=1,validation_data=(x_test, y_test))\n",
        "print(\"The model has successfully trained\")\n",
        "\n",
        "model.save('mnist.h5')\n",
        "print(\"Saving the model as mnist.h5\")"
      ],
      "execution_count": null,
      "outputs": [
        {
          "output_type": "stream",
          "text": [
            "Epoch 1/35\n",
            "469/469 [==============================] - 159s 338ms/step - loss: 2.2744 - accuracy: 0.1725 - val_loss: 2.2280 - val_accuracy: 0.4069\n",
            "Epoch 2/35\n",
            "469/469 [==============================] - 155s 330ms/step - loss: 2.1949 - accuracy: 0.3269 - val_loss: 2.1278 - val_accuracy: 0.6069\n",
            "Epoch 3/35\n",
            "469/469 [==============================] - 155s 330ms/step - loss: 2.0875 - accuracy: 0.4566 - val_loss: 1.9878 - val_accuracy: 0.6837\n",
            "Epoch 4/35\n",
            "469/469 [==============================] - 156s 334ms/step - loss: 1.9373 - accuracy: 0.5360 - val_loss: 1.7927 - val_accuracy: 0.7246\n",
            "Epoch 5/35\n",
            "469/469 [==============================] - 157s 335ms/step - loss: 1.7395 - accuracy: 0.5911 - val_loss: 1.5468 - val_accuracy: 0.7517\n",
            "Epoch 6/35\n",
            "469/469 [==============================] - 157s 335ms/step - loss: 1.5128 - accuracy: 0.6318 - val_loss: 1.2869 - val_accuracy: 0.7760\n",
            "Epoch 7/35\n",
            "469/469 [==============================] - 158s 337ms/step - loss: 1.3004 - accuracy: 0.6640 - val_loss: 1.0630 - val_accuracy: 0.7943\n",
            "Epoch 8/35\n",
            "469/469 [==============================] - 158s 336ms/step - loss: 1.1321 - accuracy: 0.6902 - val_loss: 0.8949 - val_accuracy: 0.8094\n",
            "Epoch 9/35\n",
            "469/469 [==============================] - 157s 335ms/step - loss: 1.0039 - accuracy: 0.7132 - val_loss: 0.7755 - val_accuracy: 0.8238\n",
            "Epoch 10/35\n",
            "469/469 [==============================] - 157s 335ms/step - loss: 0.9167 - accuracy: 0.7294 - val_loss: 0.6909 - val_accuracy: 0.8348\n",
            "Epoch 11/35\n",
            "469/469 [==============================] - 157s 335ms/step - loss: 0.8424 - accuracy: 0.7464 - val_loss: 0.6286 - val_accuracy: 0.8437\n",
            "Epoch 12/35\n",
            "469/469 [==============================] - 159s 338ms/step - loss: 0.7864 - accuracy: 0.7603 - val_loss: 0.5806 - val_accuracy: 0.8513\n",
            "Epoch 13/35\n",
            "469/469 [==============================] - 157s 335ms/step - loss: 0.7449 - accuracy: 0.7719 - val_loss: 0.5436 - val_accuracy: 0.8579\n",
            "Epoch 14/35\n",
            "469/469 [==============================] - 158s 337ms/step - loss: 0.7064 - accuracy: 0.7826 - val_loss: 0.5137 - val_accuracy: 0.8654\n",
            "Epoch 15/35\n",
            "469/469 [==============================] - 157s 336ms/step - loss: 0.6731 - accuracy: 0.7901 - val_loss: 0.4885 - val_accuracy: 0.8708\n",
            "Epoch 16/35\n",
            "469/469 [==============================] - 161s 343ms/step - loss: 0.6519 - accuracy: 0.7974 - val_loss: 0.4675 - val_accuracy: 0.8753\n",
            "Epoch 17/35\n",
            "469/469 [==============================] - 158s 336ms/step - loss: 0.6291 - accuracy: 0.8048 - val_loss: 0.4496 - val_accuracy: 0.8780\n",
            "Epoch 18/35\n",
            "469/469 [==============================] - 162s 346ms/step - loss: 0.6094 - accuracy: 0.8095 - val_loss: 0.4341 - val_accuracy: 0.8820\n",
            "Epoch 19/35\n",
            "469/469 [==============================] - 157s 336ms/step - loss: 0.5898 - accuracy: 0.8179 - val_loss: 0.4201 - val_accuracy: 0.8851\n",
            "Epoch 20/35\n",
            "469/469 [==============================] - 162s 346ms/step - loss: 0.5731 - accuracy: 0.8214 - val_loss: 0.4079 - val_accuracy: 0.8886\n",
            "Epoch 21/35\n",
            "469/469 [==============================] - 160s 342ms/step - loss: 0.5593 - accuracy: 0.8273 - val_loss: 0.3968 - val_accuracy: 0.8912\n",
            "Epoch 22/35\n",
            "469/469 [==============================] - 161s 344ms/step - loss: 0.5461 - accuracy: 0.8315 - val_loss: 0.3874 - val_accuracy: 0.8930\n",
            "Epoch 23/35\n",
            "469/469 [==============================] - 160s 340ms/step - loss: 0.5389 - accuracy: 0.8313 - val_loss: 0.3781 - val_accuracy: 0.8954\n",
            "Epoch 24/35\n",
            "469/469 [==============================] - 159s 339ms/step - loss: 0.5240 - accuracy: 0.8389 - val_loss: 0.3696 - val_accuracy: 0.8974\n",
            "Epoch 25/35\n",
            "469/469 [==============================] - 159s 339ms/step - loss: 0.5152 - accuracy: 0.8403 - val_loss: 0.3623 - val_accuracy: 0.8993\n",
            "Epoch 26/35\n",
            "469/469 [==============================] - 160s 341ms/step - loss: 0.5097 - accuracy: 0.8428 - val_loss: 0.3560 - val_accuracy: 0.9006\n",
            "Epoch 27/35\n",
            "469/469 [==============================] - 158s 337ms/step - loss: 0.4959 - accuracy: 0.8464 - val_loss: 0.3488 - val_accuracy: 0.9027\n",
            "Epoch 28/35\n",
            "469/469 [==============================] - 158s 338ms/step - loss: 0.4891 - accuracy: 0.8492 - val_loss: 0.3429 - val_accuracy: 0.9037\n",
            "Epoch 29/35\n",
            "469/469 [==============================] - 158s 338ms/step - loss: 0.4821 - accuracy: 0.8525 - val_loss: 0.3369 - val_accuracy: 0.9053\n",
            "Epoch 30/35\n",
            "469/469 [==============================] - 161s 344ms/step - loss: 0.4728 - accuracy: 0.8549 - val_loss: 0.3318 - val_accuracy: 0.9057\n",
            "Epoch 31/35\n",
            "469/469 [==============================] - 160s 342ms/step - loss: 0.4665 - accuracy: 0.8567 - val_loss: 0.3266 - val_accuracy: 0.9063\n",
            "Epoch 32/35\n",
            "469/469 [==============================] - 162s 346ms/step - loss: 0.4585 - accuracy: 0.8591 - val_loss: 0.3220 - val_accuracy: 0.9087\n",
            "Epoch 33/35\n",
            "469/469 [==============================] - 163s 347ms/step - loss: 0.4555 - accuracy: 0.8597 - val_loss: 0.3176 - val_accuracy: 0.9091\n",
            "Epoch 34/35\n",
            "469/469 [==============================] - 164s 350ms/step - loss: 0.4500 - accuracy: 0.8613 - val_loss: 0.3133 - val_accuracy: 0.9096\n",
            "Epoch 35/35\n",
            "469/469 [==============================] - 164s 349ms/step - loss: 0.4416 - accuracy: 0.8640 - val_loss: 0.3086 - val_accuracy: 0.9113\n",
            "The model has successfully trained\n",
            "Saving the model as mnist.h5\n"
          ],
          "name": "stdout"
        }
      ]
    },
    {
      "cell_type": "code",
      "metadata": {
        "id": "7AFeNgQUNUuj",
        "outputId": "f0cee949-88bc-4764-a45f-454cb09a21d5",
        "colab": {
          "base_uri": "https://localhost:8080/",
          "height": 54
        }
      },
      "source": [
        "# Evaluate the Model\n",
        "\n",
        "score = model.evaluate(x_test, y_test, verbose=0)\n",
        "print('Test loss:', score[0])\n",
        "print('Test accuracy:', score[1])"
      ],
      "execution_count": null,
      "outputs": [
        {
          "output_type": "stream",
          "text": [
            "Test loss: 0.3085572123527527\n",
            "Test accuracy: 0.911300003528595\n"
          ],
          "name": "stdout"
        }
      ]
    },
    {
      "cell_type": "code",
      "metadata": {
        "id": "3Z0ZA9Htrch9",
        "outputId": "3d8ae464-5836-4cba-92c1-2d85e396841c",
        "colab": {
          "base_uri": "https://localhost:8080/",
          "height": 374
        }
      },
      "source": [
        "# Applying k-means Clustering\n",
        "\n",
        "import matplotlib.pyplot as plt\n",
        "from sklearn.datasets.samples_generator import make_blobs\n",
        "\n",
        "features, label = make_blobs(n_samples=500, centers=10,\n",
        "                       cluster_std=0.55, random_state=0)\n",
        "plt.figure(figsize=(10, 6))\n",
        "plt.scatter(features[:, 0], features[:, 1], s=50);"
      ],
      "execution_count": null,
      "outputs": [
        {
          "output_type": "display_data",
          "data": {
            "image/png": "[encoded data removed]",
            "text/plain": [
              "<Figure size 720x432 with 1 Axes>"
            ]
          },
          "metadata": {
            "tags": [],
            "needs_background": "light"
          }
        }
      ]
    },
    {
      "cell_type": "code",
      "metadata": {
        "id": "XRjKhgGirhD0",
        "outputId": "3be7942e-aaa1-4559-c25b-903d17daf9ad",
        "colab": {
          "base_uri": "https://localhost:8080/",
          "height": 283
        }
      },
      "source": [
        "from sklearn.cluster import KMeans\n",
        "kmeans = KMeans(n_clusters=10)\n",
        "kmeans.fit(features)\n",
        "kmeansLabels = kmeans.predict(features)\n",
        "plt.scatter(features[:, 0], features[:, 1], c=kmeansLabels, s=50, cmap='viridis')\n",
        "\n",
        "clusterCenters = kmeans.cluster_centers_\n",
        "plt.scatter(clusterCenters[:, 0], clusterCenters[:, 1], c='red', s=200, alpha=0.8)"
      ],
      "execution_count": null,
      "outputs": [
        {
          "output_type": "execute_result",
          "data": {
            "text/plain": [
              "<matplotlib.collections.PathCollection at 0x7f2daf772710>"
            ]
          },
          "metadata": {
            "tags": []
          },
          "execution_count": 15
        },
        {
          "output_type": "display_data",
          "data": {
            "image/png": "[encoded data removed]",
            "text/plain": [
              "<Figure size 432x288 with 1 Axes>"
            ]
          },
          "metadata": {
            "tags": [],
            "needs_background": "light"
          }
        }
      ]
    },
    {
      "cell_type": "code",
      "metadata": {
        "id": "bklHCHM_rq7z"
      },
      "source": [
        ""
      ],
      "execution_count": null,
      "outputs": []
    },
    {
      "cell_type": "code",
      "metadata": {
        "id": "Sf87zqv5rrFr"
      },
      "source": [
        ""
      ],
      "execution_count": null,
      "outputs": []
    },
    {
      "cell_type": "code",
      "metadata": {
        "id": "mmYIsOj7rrQs"
      },
      "source": [
        ""
      ],
      "execution_count": null,
      "outputs": []
    },
    {
      "cell_type": "code",
      "metadata": {
        "id": "zlN4r3Y4NUuw"
      },
      "source": [
        ""
      ],
      "execution_count": null,
      "outputs": []
    },
    {
      "cell_type": "code",
      "metadata": {
        "id": "WFSntM8yNUu0"
      },
      "source": [
        ""
      ],
      "execution_count": null,
      "outputs": []
    }
  ]
}